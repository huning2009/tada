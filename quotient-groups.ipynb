{
 "cells": [
  {
   "cell_type": "markdown",
   "metadata": {},
   "source": [
    "# Quotient groups"
   ]
  },
  {
   "cell_type": "markdown",
   "metadata": {},
   "source": [
    "Introduction..."
   ]
  },
  {
   "cell_type": "markdown",
   "metadata": {},
   "source": [
    "## The intuition"
   ]
  },
  {
   "cell_type": "markdown",
   "metadata": {},
   "source": [
    "In arithmentic, the *quotient* typically means the integer part of a division when one number is divided by another. In many programming languages, division of one integer by another automatically results in the quotient, with any fractional part (or remainder, to stay in integer arithmetic) being discarded. We usually think of quotient in these terms: as \"part of\" the result of a division operation. This basic idea hides a somewhat deeper idea, though: that of *equivalence classes*.\n",
    "\n",
    "Instead of thinking about parts disposed of during division, we can instead think about how quitienting makes some pairs of numbers \"the same\" when divided. For example, if we look at numbers in the range 1&ndash;19 when divided by 3, we get:"
   ]
  },
  {
   "cell_type": "code",
   "execution_count": 7,
   "metadata": {},
   "outputs": [
    {
     "data": {
      "text/plain": [
       "[0, 0, 1, 1, 1, 2, 2, 2, 3, 3, 3, 4, 4, 4, 5, 5, 5, 6, 6]"
      ]
     },
     "execution_count": 7,
     "metadata": {},
     "output_type": "execute_result"
    }
   ],
   "source": [
    "list(map(lambda x: int(x / 3), range(1, 20)))"
   ]
  },
  {
   "cell_type": "markdown",
   "metadata": {},
   "source": [
    "The quotient is counting in multiples of three, exactly as we'd expect given that it's throwing the remainder after division by three away. Another way to look at this, though, is to say that, for the quotient, the result of (for example) `3 / 3` is the same as the results of `4 / 3` and `5 / 3`: the operation has taken several expressions and made them equivalent under the quotient."
   ]
  },
  {
   "cell_type": "markdown",
   "metadata": {},
   "source": [
    "## Definitions"
   ]
  },
  {
   "cell_type": "markdown",
   "metadata": {},
   "source": [
    "### Cosets"
   ]
  },
  {
   "cell_type": "markdown",
   "metadata": {},
   "source": [
    "Suppose we have a group $G$ with a subgroup $H \\subset G$. For any $g \\in G$, the **left coset of $H$ in $G$ at $g$** is given by $g + H = \\{ g + h | h \\in H \\}$. Correspondingly, the **right coset** is given by $H + g = \\{ h + g | h \\in H \\}$.\n",
    "\n",
    "The significance of the left coset is that it captures all the values that the operation takes when $g$ is applied to any element of $H$. Since $H \\subset G$ is a subgroup it must be closed under the operation, so we expect that the left coset $h + H \\subset H$ for all $h \\in H$. Similarly, the right coset captures the values resulting from any element of $H$ being to $g$."
   ]
  },
  {
   "cell_type": "markdown",
   "metadata": {},
   "source": [
    "## Quotient group"
   ]
  },
  {
   "cell_type": "markdown",
   "metadata": {},
   "source": [
    "TBD"
   ]
  },
  {
   "cell_type": "markdown",
   "metadata": {},
   "source": [
    "## An example"
   ]
  },
  {
   "cell_type": "markdown",
   "metadata": {},
   "source": [
    "Let's look at a full example. We'll start with the group $\\mathbb{Z} = (\\mathbb{Z}, +)$ of integers under addition. To recap the structure of this group:\n",
    "\n",
    "* The underlying set is the set of positive and negative integers, and we're commiting the usual abuse of notation by using $\\mathbb{Z}$ for both\n",
    "* The operation $+$ is normal integer addition\n",
    "* The element $0$ is the identity element, since $1 + x = 0 + x = x$\n",
    "* Every element $x$ has a corresponding inverse element $-x$ such that $x + (-x) = 0$\n",
    "\n",
    "The group has several sub-groups. Let's construct a specific sub-group, the set of all even integers, which we'll denote $2\\mathbb{Z}$ (although it's also sometimes denoted $\\mathbb{Z}_2$ in the literature). We can construct this group by multiply each number in $\\mathbb{Z}$ by two: just like $\\mathbb{Z}$ itself, $2\\mathbb{Z}$ is an infinite group.\n",
    "\n",
    "Is $2\\mathbb{Z}$ *actually* a sub-group of $\\mathbb{Z}$? Let's check:\n",
    "\n",
    "* $2\\mathbb{Z}$ must itself be a group with the same operation: it is\n",
    "* All the elements of $2\\mathbb{Z}$ must be elements of $\\mathbb{Z}$: they are, since every even integer is also an integer\n",
    "* The identity element of $\\mathbb{Z}$ must be part of $2\\mathbb{Z}$, and be its identity: it is, since $0 + x = 0$ for all even integers, and $0$ is clearly also the identity element of $2\\mathbb{Z}$\n",
    "* $2\\mathbb{Z}$ must be closed under addition: it is, since the sum of two even integers is itself an even integer\n",
    "\n",
    "We can therefore ask: what does the quotient group $\\mathbb{Z}/2\\mathbb{Z}$ look like?\n",
    "\n",
    "Let $x \\in \\mathbb{Z}$ be an element of $\\mathbb{Z}$. For each such $x$ we can form the left coset of $2\\mathbb{Z}$ in $\\mathbb{Z}$ at $x$, $\\{ x + y | y \\in 2\\mathbb{Z} \\}$. Computing these cosets at several values, we have:\n",
    "\n",
    "* $\\{ 0 + y \\} = \\{ \\ldots -4, -2, 0, 2, 4 \\ldots \\}$\n",
    "* $\\{ 1 + y \\} = \\{ \\ldots -3, -1, 1, 3, 5, \\ldots \\}$\n",
    "* $\\{ 2 + y \\} = \\{ \\ldots -2, 0, 2, 4, 6, \\ldots \\}$\n",
    "* $\\{ -1 + y \\} = \\{ \\ldots -5, -3, -1, 1, 3, \\ldots \\}$\n",
    "\n",
    "where we have shown the explicit values for the subset $\\{ -4, -2, 0, 2, 4 \\} \\subset 2\\mathbb{Z}$. It's easy to see that there are actually only two unique cosets, consisting of the odd integers and the even integers. Let us denote these two sets $O$ and $E$ respectively. These cosets are the elements of $\\mathbb{Z}/2\\mathbb{Z}$. We can apply the operation elementwise, and find that $E + E = E$ while $E + I = I + E = I$, meaning that $E$ (the even integers) is the identity element of $\\mathbb{Z}/2\\mathbb{Z}$. By contrast, $I + I = E$.\n",
    "\n",
    "It seems rather strange to work in terms of equivalence classes &ndash; the cosets &ndash; but we can observe that, when working with groups, it is only the structure of the group under its operation that matters. If we can find another group with the same structure, we can use that group instead, and indeed map all operations in one group into the other automatically. The correct notion for \"with the same structure\" is a group isomorphism, which is simply two homomorphisms going in opposite directions between the two groups. The important point about homomorphisms is that they transform *both* the underlying set *and* the operation of one group to those of another in a way that maintains the values of (*respects*) the operation under the transformation.   \n",
    "\n",
    "Suppose we define a function $ind: \\mathbb{Z} \\rightarrow \\{ 0, 1 \\}$ such that $ind(x) = 0$ if $x$ is even (*i.e.*, is a member of $2\\mathbb{Z}$) and $ind(x) = 1$ otherwise, if $x$ is odd. The range of $ind$ is currently a set, but we can make it a group by providing it with an operation $+_2$ of addition modulo two, so $0 +_2 0 = 0$, $0 +_2 1 = 1$, and $1 +_2 1 = 0$. Let us denote this group by $\\mathbb{Z}_2$. We can then extend $ind$ to be a group homomorphism that operates on the elements of $\\mathbb{Z}/2\\mathbb{Z}$ as $\\{ E \\mapsto 0, I \\mapsto 1 \\}$ and maps elementwise addition to addition modulo 2. If we check, then\n",
    "\n",
    "\\begin{align}\n",
    "    ind(E + E) &= ind(E) +_2 ind(E) = 0 +_2 0 = 0 = ind(E) \\\\\n",
    "    ind(I + E) &= ind(I) +_2 ind(E) = 1 +_2 0 = 1 = ind(I) \\\\\n",
    "    ind(I + I) &= ind(I) +_2 ind(I) = 1 +_2 1 = 0 = ind(E) \\\\\n",
    "    ind(E + I) &= ind(E) +_2 ind(I) = 0 +_2 1 = 1 = ind(O)\n",
    "\\end{align}\n",
    "\n",
    "so $ind$ maps the identity element of $\\mathbb{Z}/2\\mathbb{Z}$ to the identity element of $\\mathbb{Z}_2$ and commutes properly with the operations. $ind$ is also clearly invertible, allowing us to treat $\\mathbb{Z}/2\\mathbb{Z} \\cong \\mathbb{Z}_2$ as isomorphic groups, and work with the simpler $\\mathbb{Z}_2$ with its more straightforward elements rather than with the equivalence classes of $\\mathbb{Z}/2\\mathbb{Z}$.\n",
    "\n",
    "(It is this argument that allows people to say that the quotient $\\mathbb{Z}/2\\mathbb{Z}$ \"is\" the group $\\mathbb{Z}_2$, but that's not quite right. One could accurately say \"is (up to isomorphism)\". However, both of these in my opinion obscure what's actually going on, which is the construction of a group as a collectiuon of cosets &ndash; and only then simplifying to an isomorphic group with \"sensible\" elements.)\n"
   ]
  },
  {
   "cell_type": "markdown",
   "metadata": {},
   "source": [
    "$0 \\xrightarrow{\\partial_j} C_k(X) \\xrightarrow{\\partial_{j - 1}}$ "
   ]
  },
  {
   "cell_type": "code",
   "execution_count": null,
   "metadata": {},
   "outputs": [],
   "source": []
  }
 ],
 "metadata": {
  "kernelspec": {
   "display_name": "Python 3",
   "language": "python",
   "name": "python3"
  },
  "language_info": {
   "codemirror_mode": {
    "name": "ipython",
    "version": 3
   },
   "file_extension": ".py",
   "mimetype": "text/x-python",
   "name": "python",
   "nbconvert_exporter": "python",
   "pygments_lexer": "ipython3",
   "version": "3.7.3"
  }
 },
 "nbformat": 4,
 "nbformat_minor": 2
}
