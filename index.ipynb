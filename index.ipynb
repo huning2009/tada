{
 "cells": [
  {
   "cell_type": "markdown",
   "metadata": {},
   "source": [
    "# Topology and data analysis\n",
    "\n",
    "[Simon Dobson](mailto:simon.dobson@computer.org) <br>\n",
    "School of Computer Science, University of St Andrews, Scotland UK\n",
    "\n",
    "---"
   ]
  },
  {
   "cell_type": "markdown",
   "metadata": {},
   "source": [
    "Preface\n",
    "\n",
    "Introduction\n",
    "\n",
    "\n",
    "## Part 1: Simplicial topology\n",
    "\n",
    "**Basic ideas**\n",
    "\n",
    "* Graphs\n",
    "* Capturing higher-dimensional structures\n",
    "* Representing the complex\n",
    "* Manipulating the complex\n",
    "\n",
    "**From geometry to topology**\n",
    "\n",
    "* The Voronoi construction\n",
    "* Delaunay triangulation\n",
    "* Synthetic complexes: the &#268;ech and Vietoris-Rips complexes \n",
    "\n",
    "\n",
    "## Part 2: Homology and cohomology\n",
    "\n",
    "* What is homology?\n",
    "* Finite groups\n",
    "* [Quotient groups](quotient-groups.ipynb)\n",
    "* The homology group\n",
    "\n",
    "\n",
    "## Part 3: Sheaf theory\n",
    "\n",
    "\n",
    "Bibliography\n",
    "\n",
    "Acknowledgements\n",
    "\n",
    "About the author\n"
   ]
  },
  {
   "cell_type": "markdown",
   "metadata": {},
   "source": [
    "---\n",
    "\n",
    "<a rel=\"license\" href=\"http://creativecommons.org/licenses/by-sa/4.0/\"><img alt=\"Creative Commons License\" style=\"border-width:0\" src=\"https://i.creativecommons.org/l/by-sa/4.0/88x31.png\" /></a><br /><span xmlns:dct=\"http://purl.org/dc/terms/\" href=\"http://purl.org/dc/dcmitype/Text\" property=\"dct:title\" rel=\"dct:type\"><i>Topology and data analysis</i></span> by <a xmlns:cc=\"http://creativecommons.org/ns#\" href=\"http://www.simondobson.org\" property=\"cc:attributionName\" rel=\"cc:attributionURL\">Simon Dobson</a> is licensed under a <a rel=\"license\" href=\"http://creativecommons.org/licenses/by-sa/4.0/\">Creative Commons Attribution-ShareAlike 4.0 International License</a>.<br />Based on a work at <a xmlns:dct=\"http://purl.org/dc/terms/\" href=\"https://github.com/simoninireland/tada\" rel=\"dct:source\">https://github.com/simoninireland/tada</a>."
   ]
  }
 ],
 "metadata": {
  "kernelspec": {
   "display_name": "Python 3",
   "language": "python",
   "name": "python3"
  },
  "language_info": {
   "codemirror_mode": {
    "name": "ipython",
    "version": 3
   },
   "file_extension": ".py",
   "mimetype": "text/x-python",
   "name": "python",
   "nbconvert_exporter": "python",
   "pygments_lexer": "ipython3",
   "version": "3.7.5"
  }
 },
 "nbformat": 4,
 "nbformat_minor": 2
}
